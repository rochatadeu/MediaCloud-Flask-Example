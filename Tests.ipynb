{
 "cells": [
  {
   "cell_type": "code",
   "execution_count": 3,
   "metadata": {
    "collapsed": false
   },
   "outputs": [
    {
     "name": "stdout",
     "output_type": "stream",
     "text": [
      "<type 'dict'>\n",
      "{u'count': 190133}\n"
     ]
    }
   ],
   "source": [
    "import requests\n",
    "\n",
    "response = requests.get(\"https://api.mediacloud.org/api/v2/sentences/count?key=403846cfb33988bc97470f8d341d6ef513435fdee4904c3e200dd2e4ed47cbbc&q=sentence:obama&fq=media_id:1\")\n",
    "data = response.json()\n",
    "print(type(data))\n",
    "print(data)"
   ]
  },
  {
   "cell_type": "code",
   "execution_count": 21,
   "metadata": {
    "collapsed": false
   },
   "outputs": [
    {
     "name": "stdout",
     "output_type": "stream",
     "text": [
      "<type 'dict'>\n",
      "{u'count': 190134}\n"
     ]
    }
   ],
   "source": [
    "import requests\n",
    "\n",
    "name = \"obama\"\n",
    "parameters = {\"q\": \"sentence:obama\", \"fq\": \"media_id:1\", \"key\":\"403846cfb33988bc97470f8d341d6ef513435fdee4904c3e200dd2e4ed47cbbc\"}\n",
    "\n",
    "response = requests.get(\"https://api.mediacloud.org/api/v2/sentences/count\", params=parameters)\n",
    "data = response.json()\n",
    "print(type(data))\n",
    "print(data)"
   ]
  },
  {
   "cell_type": "code",
   "execution_count": 78,
   "metadata": {
    "collapsed": false
   },
   "outputs": [
    {
     "name": "stdout",
     "output_type": "stream",
     "text": [
      "<type 'dict'>\n",
      "{u'count': 96520, u'split': {u'2016-03-31T00:00:00Z': 146, u'2016-04-21T00:00:00Z': 222, u'2015-01-08T00:00:00Z': 325, u'2016-04-07T00:00:00Z': 164, u'2015-02-26T00:00:00Z': 259, u'2015-11-05T00:00:00Z': 257, u'2015-10-01T00:00:00Z': 250, u'2016-01-21T00:00:00Z': 289, u'2016-09-01T00:00:00Z': 125, u'2015-10-08T00:00:00Z': 160, u'2015-04-02T00:00:00Z': 204, u'2016-05-26T00:00:00Z': 188, u'2015-12-24T00:00:00Z': 253, u'2016-09-22T00:00:00Z': 147, u'2015-11-26T00:00:00Z': 209, u'2015-06-25T00:00:00Z': 227, u'2015-03-19T00:00:00Z': 316, u'2015-05-07T00:00:00Z': 201, u'2015-04-16T00:00:00Z': 307, u'2016-07-28T00:00:00Z': 150, u'2015-04-30T00:00:00Z': 268, u'2015-12-10T00:00:00Z': 262, u'2016-05-19T00:00:00Z': 252, u'2015-08-27T00:00:00Z': 184, u'2016-08-04T00:00:00Z': 196, u'2015-11-19T00:00:00Z': 208, u'2015-01-22T00:00:00Z': 599, u'2016-01-28T00:00:00Z': 292, u'2015-12-31T00:00:00Z': 156, u'2016-07-14T00:00:00Z': 148, u'2016-08-25T00:00:00Z': 170, u'2016-01-14T00:00:00Z': 230, u'2015-06-18T00:00:00Z': 262, u'2015-02-05T00:00:00Z': 205, u'2016-02-18T00:00:00Z': 258, u'2015-11-12T00:00:00Z': 246, u'2016-06-16T00:00:00Z': 170, u'2016-11-03T00:00:00Z': 112, u'2015-10-15T00:00:00Z': 224, u'2016-09-08T00:00:00Z': 141, u'2016-02-04T00:00:00Z': 500, u'2015-08-13T00:00:00Z': 349, u'2015-07-09T00:00:00Z': 209, u'2016-08-18T00:00:00Z': 134, u'2016-01-07T00:00:00Z': 206, u'2015-09-03T00:00:00Z': 321, u'2016-10-06T00:00:00Z': 148, u'2016-09-29T00:00:00Z': 129, u'2016-06-30T00:00:00Z': 133, u'2015-09-17T00:00:00Z': 218, u'2015-12-03T00:00:00Z': 378, u'2016-05-12T00:00:00Z': 230, u'2016-04-28T00:00:00Z': 187, u'2015-07-30T00:00:00Z': 282, u'2016-06-09T00:00:00Z': 163, u'2015-07-16T00:00:00Z': 252, u'2016-03-03T00:00:00Z': 197, u'2015-02-12T00:00:00Z': 259, u'2015-12-17T00:00:00Z': 147, u'2016-02-25T00:00:00Z': 303, u'2015-04-23T00:00:00Z': 303, u'2015-09-10T00:00:00Z': 233, u'start': u'2015-01-01T00:00:00Z', u'2016-07-07T00:00:00Z': 175, u'2016-10-27T00:00:00Z': 81, u'2015-03-05T00:00:00Z': 225, u'2015-02-19T00:00:00Z': 255, u'2016-04-14T00:00:00Z': 187, u'2016-11-17T00:00:00Z': 145, u'2016-08-11T00:00:00Z': 143, u'gap': u'+7DAYS', u'2015-07-23T00:00:00Z': 231, u'2015-05-21T00:00:00Z': 179, u'2016-10-20T00:00:00Z': 84, u'2015-01-15T00:00:00Z': 235, u'2015-08-20T00:00:00Z': 314, u'2016-11-10T00:00:00Z': 163, u'2015-01-01T00:00:00Z': 165, u'2016-03-17T00:00:00Z': 275, u'2016-06-23T00:00:00Z': 195, u'2015-06-04T00:00:00Z': 251, u'2015-10-22T00:00:00Z': 215, u'2015-01-29T00:00:00Z': 727, u'2015-07-02T00:00:00Z': 200, u'2015-05-14T00:00:00Z': 230, u'2015-04-09T00:00:00Z': 242, u'2015-06-11T00:00:00Z': 210, u'2016-03-10T00:00:00Z': 233, u'2016-09-15T00:00:00Z': 143, u'end': u'2016-12-01T00:00:00Z', u'2016-07-21T00:00:00Z': 185, u'2016-03-24T00:00:00Z': 180, u'2016-05-05T00:00:00Z': 211, u'2015-10-29T00:00:00Z': 214, u'2016-06-02T00:00:00Z': 173, u'2015-05-28T00:00:00Z': 222, u'2016-10-13T00:00:00Z': 94, u'2015-03-26T00:00:00Z': 185, u'2016-02-11T00:00:00Z': 205, u'2015-09-24T00:00:00Z': 247, u'2015-08-06T00:00:00Z': 255, u'2016-11-24T00:00:00Z': 66, u'2015-03-12T00:00:00Z': 214}}\n",
      "96520\n"
     ]
    }
   ],
   "source": [
    "import requests\n",
    "\n",
    "name = \"puppy\"\n",
    "parameters = {\"split\":\"1\", \"start_date\":\"2015-01-01\",\"end_date\":\"2016-11-28\", \"split_start_date\":\"2015-01-01\",\"split_end_date\":\"2016-11-28\", \"key\":\"403846cfb33988bc97470f8d341d6ef513435fdee4904c3e200dd2e4ed47cbbc\"}\n",
    "\n",
    "response = requests.get(\"https://api.mediacloud.org/api/v2/sentences/count?q=sentence:\"+str(name)+\"+AND+tags_id_media:8875027\", params=parameters)\n",
    "data = response.json()\n",
    "print(type(data))\n",
    "print(data)\n",
    "print(data['count'])\n"
   ]
  },
  {
   "cell_type": "code",
   "execution_count": 73,
   "metadata": {
    "collapsed": false
   },
   "outputs": [
    {
     "name": "stdout",
     "output_type": "stream",
     "text": [
      "<type 'list'>\n",
      "[{u'url': u'http://www.plaindealer.com/', u'media_id': 20, u'media_source_tags': [{u'tags_id': 29, u'description': None, u'show_on_media': 0, u'tag_set': u'usnewspapercirculation', u'label': None, u'tag': u'19', u'show_on_stories': None, u'tag_sets_id': 3}], u'name': u'The Plain Dealer'}]\n"
     ]
    }
   ],
   "source": [
    "import requests\n",
    "\n",
    "parameters = {\"key\":\"403846cfb33988bc97470f8d341d6ef513435fdee4904c3e200dd2e4ed47cbbc\"}\n",
    "\n",
    "response = requests.get(\"https://api.mediacloud.org/api/v2/media/single/20\", params=parameters)\n",
    "data = response.json()\n",
    "print(type(data))\n",
    "print(data)"
   ]
  },
  {
   "cell_type": "code",
   "execution_count": 67,
   "metadata": {
    "collapsed": false
   },
   "outputs": [
    {
     "name": "stdout",
     "output_type": "stream",
     "text": [
      "sentence:puppy+AND+tags_id_media:8875027\n"
     ]
    }
   ],
   "source": [
    "name = \"puppy\"\n",
    "print(\"sentence:\"+str(name)+\"+AND+tags\\_id\\_media:8875027\")"
   ]
  },
  {
   "cell_type": "code",
   "execution_count": null,
   "metadata": {
    "collapsed": true
   },
   "outputs": [],
   "source": []
  }
 ],
 "metadata": {
  "kernelspec": {
   "display_name": "Python 2",
   "language": "python",
   "name": "python2"
  },
  "language_info": {
   "codemirror_mode": {
    "name": "ipython",
    "version": 2
   },
   "file_extension": ".py",
   "mimetype": "text/x-python",
   "name": "python",
   "nbconvert_exporter": "python",
   "pygments_lexer": "ipython2",
   "version": "2.7.12"
  }
 },
 "nbformat": 4,
 "nbformat_minor": 1
}
